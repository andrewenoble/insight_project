{
 "cells": [
  {
   "cell_type": "markdown",
   "metadata": {},
   "source": [
    "# Natural Language Processing, specifically topic modeling with Latent Dirichlet Allocation."
   ]
  },
  {
   "cell_type": "code",
   "execution_count": 1,
   "metadata": {
    "collapsed": true
   },
   "outputs": [],
   "source": [
    "from __future__ import division"
   ]
  },
  {
   "cell_type": "code",
   "execution_count": 2,
   "metadata": {
    "collapsed": false
   },
   "outputs": [],
   "source": [
    "import numpy as np\n",
    "import matplotlib.pyplot as plt\n",
    "import seaborn as sns\n",
    "\n",
    "import pandas as pd\n",
    "from sqlalchemy import create_engine\n",
    "from sqlalchemy.sql import text"
   ]
  },
  {
   "cell_type": "code",
   "execution_count": 3,
   "metadata": {
    "collapsed": true
   },
   "outputs": [],
   "source": [
    "%matplotlib inline  "
   ]
  },
  {
   "cell_type": "code",
   "execution_count": 4,
   "metadata": {
    "collapsed": true
   },
   "outputs": [],
   "source": [
    "sns.set_style(\"white\")\n",
    "sns.set_style(\"ticks\")\n",
    "sns.set_context(\"talk\")"
   ]
  },
  {
   "cell_type": "markdown",
   "metadata": {},
   "source": [
    "# Retrieve df from db . . ."
   ]
  },
  {
   "cell_type": "markdown",
   "metadata": {},
   "source": [
    "Query the reddit table in the insight database."
   ]
  },
  {
   "cell_type": "code",
   "execution_count": 5,
   "metadata": {
    "collapsed": false
   },
   "outputs": [],
   "source": [
    "eng = create_engine('postgresql:///insight')\n",
    "with eng.connect() as con:            \n",
    "    rs = con.execute(text('SELECT * FROM reddit'))            \n",
    "    data = np.array(rs.fetchall())[:, 1:] # drop \"Id\" column from database table."
   ]
  },
  {
   "cell_type": "code",
   "execution_count": 6,
   "metadata": {
    "collapsed": false
   },
   "outputs": [],
   "source": [
    "df = pd.DataFrame({\n",
    "    'Day': data[:, 0].astype(np.float), \n",
    "    'Body': data[:, 1],\n",
    "    'Author': data[:, 2],\n",
    "    'Score': data[:, 3].astype(np.int),\n",
    "    'Clean_body': data[:, 4],\n",
    "    'Body_length': data[:, 5].astype(np.int)})"
   ]
  },
  {
   "cell_type": "code",
   "execution_count": 7,
   "metadata": {
    "collapsed": true
   },
   "outputs": [],
   "source": [
    "N = df.shape[0]\n",
    "M = df.shape[1]"
   ]
  },
  {
   "cell_type": "code",
   "execution_count": 8,
   "metadata": {
    "collapsed": false
   },
   "outputs": [
    {
     "name": "stdout",
     "output_type": "stream",
     "text": [
      "2680 6\n"
     ]
    }
   ],
   "source": [
    "print N, M"
   ]
  },
  {
   "cell_type": "markdown",
   "metadata": {},
   "source": [
    "# . . . or from csv file."
   ]
  },
  {
   "cell_type": "code",
   "execution_count": 5,
   "metadata": {
    "collapsed": true
   },
   "outputs": [],
   "source": [
    "df = pd.read_csv('data_post_processing.csv')"
   ]
  },
  {
   "cell_type": "code",
   "execution_count": 6,
   "metadata": {
    "collapsed": true
   },
   "outputs": [],
   "source": [
    "N = df.shape[0]\n",
    "M = df.shape[1]"
   ]
  },
  {
   "cell_type": "code",
   "execution_count": 7,
   "metadata": {
    "collapsed": false
   },
   "outputs": [
    {
     "name": "stdout",
     "output_type": "stream",
     "text": [
      "2686 7\n"
     ]
    }
   ],
   "source": [
    "print N, M"
   ]
  },
  {
   "cell_type": "code",
   "execution_count": 9,
   "metadata": {
    "collapsed": false
   },
   "outputs": [
    {
     "data": {
      "text/plain": [
       "RangeIndex(start=0, stop=2686, step=1)"
      ]
     },
     "execution_count": 9,
     "metadata": {},
     "output_type": "execute_result"
    }
   ],
   "source": [
    "df.index"
   ]
  },
  {
   "cell_type": "markdown",
   "metadata": {},
   "source": [
    "# Pre-processing required for topic modeling with Gensim's LDA package."
   ]
  },
  {
   "cell_type": "markdown",
   "metadata": {},
   "source": [
    "This section borrows many bits of code from Jordan Barber: https://rstudio-pubs-static.s3.amazonaws.com/79360_850b2a69980c4488b1db95987a24867a.html"
   ]
  },
  {
   "cell_type": "code",
   "execution_count": 9,
   "metadata": {
    "collapsed": true
   },
   "outputs": [],
   "source": [
    "import re\n",
    "import nltk\n",
    "\n",
    "from nltk.tokenize import RegexpTokenizer\n",
    "tokenizer = RegexpTokenizer(r'\\w+')\n",
    "\n",
    "from stop_words import get_stop_words\n",
    "english_stop_words = get_stop_words('en')\n",
    "\n",
    "from nltk.stem.porter import PorterStemmer\n",
    "p_stemmer = PorterStemmer()\n",
    "\n",
    "import gensim\n",
    "from gensim import corpora, models\n",
    "\n",
    "import pyLDAvis.gensim\n",
    "pyLDAvis.enable_notebook()"
   ]
  },
  {
   "cell_type": "code",
   "execution_count": 10,
   "metadata": {
    "collapsed": true
   },
   "outputs": [],
   "source": [
    "docs = df.Clean_body.values"
   ]
  },
  {
   "cell_type": "code",
   "execution_count": 11,
   "metadata": {
    "collapsed": false
   },
   "outputs": [],
   "source": [
    "docs_p = []\n",
    "for doc in docs:\n",
    "    \n",
    "    # Handle \n",
    "    doc = re.sub(r'number', '', doc)\n",
    "    \n",
    "    # Handle URLS\n",
    "    doc = re.sub(r'httpaddr', '', doc)\n",
    "    \n",
    "    # Handle Email Addresses\n",
    "    doc = re.sub(r'emailaddr', '', doc)\n",
    "    \n",
    "    # Handle $ sign\n",
    "    doc = re.sub(r'dollar', '', doc)\n",
    "    \n",
    "    # Handle long strings of vowels.\n",
    "    doc = re.sub(r'[a|e|i|o|u]{3,}', '', doc)\n",
    "    \n",
    "    docs_p.append(doc)"
   ]
  },
  {
   "cell_type": "code",
   "execution_count": 12,
   "metadata": {
    "collapsed": false
   },
   "outputs": [],
   "source": [
    "tokens = []\n",
    "for doc in docs_p:\n",
    "    tokenized = tokenizer.tokenize(doc)\n",
    "    tokens.append(tokenized)"
   ]
  },
  {
   "cell_type": "code",
   "execution_count": 13,
   "metadata": {
    "collapsed": false
   },
   "outputs": [],
   "source": [
    "stopped_tokens = []\n",
    "for tokenized in tokens:\n",
    "    stopped_tokenized = [token if len(token) > 2 else '' for token in tokenized \n",
    "                         if not token in english_stop_words]# and token not in extra_stop_tokens]\n",
    "    stopped_tokenized = [token for token in stopped_tokenized if not token in ['']]\n",
    "    stopped_tokens.append(stopped_tokenized)"
   ]
  },
  {
   "cell_type": "code",
   "execution_count": 14,
   "metadata": {
    "collapsed": false
   },
   "outputs": [],
   "source": [
    "docs_pp = []\n",
    "\n",
    "for row in stopped_tokens:\n",
    "    doc_recon = ''\n",
    "    for token in row:\n",
    "        doc_recon += token + ' '\n",
    "    docs_pp.append(doc_recon)"
   ]
  },
  {
   "cell_type": "code",
   "execution_count": 15,
   "metadata": {
    "collapsed": true
   },
   "outputs": [],
   "source": [
    "stemmed_stopped_tokens = []\n",
    "for stopped_tokenized in stopped_tokens:\n",
    "    stemmed_stopped_tokenized = [p_stemmer.stem(token) for token in stopped_tokenized]\n",
    "    stemmed_stopped_tokens.append(stemmed_stopped_tokenized)"
   ]
  },
  {
   "cell_type": "code",
   "execution_count": 16,
   "metadata": {
    "collapsed": false
   },
   "outputs": [],
   "source": [
    "text = []\n",
    "\n",
    "for stemmed_stopped_tokenized in stemmed_stopped_tokens:\n",
    "    for token in stemmed_stopped_tokenized:\n",
    "        text.append(token)"
   ]
  },
  {
   "cell_type": "code",
   "execution_count": 17,
   "metadata": {
    "collapsed": false
   },
   "outputs": [],
   "source": [
    "fd = nltk.FreqDist(text)"
   ]
  },
  {
   "cell_type": "code",
   "execution_count": 18,
   "metadata": {
    "collapsed": false
   },
   "outputs": [
    {
     "data": {
      "image/png": "[encoded data removed]",
      "text/plain": [
       "<matplotlib.figure.Figure at 0x1066c8e50>"
      ]
     },
     "metadata": {},
     "output_type": "display_data"
    }
   ],
   "source": [
    "fd.plot(50, cumulative=False)"
   ]
  },
  {
   "cell_type": "markdown",
   "metadata": {},
   "source": [
    "How many terms are there in the corpus at this point?"
   ]
  },
  {
   "cell_type": "code",
   "execution_count": 19,
   "metadata": {
    "collapsed": false
   },
   "outputs": [
    {
     "name": "stdout",
     "output_type": "stream",
     "text": [
      "6947\n"
     ]
    }
   ],
   "source": [
    "print len(fd)"
   ]
  },
  {
   "cell_type": "markdown",
   "metadata": {},
   "source": [
    "Remove words from corpus that are too short, too long, too infrequent, or too frequent."
   ]
  },
  {
   "cell_type": "code",
   "execution_count": 37,
   "metadata": {
    "collapsed": false
   },
   "outputs": [],
   "source": [
    "corpus_specific_stop_words = []\n",
    "\n",
    "for key, value in fd.iteritems():\n",
    "    if len(key) < 4 or len(key) > 10 or value < 4 or value > 900:\n",
    "        corpus_specific_stop_words.append(key)"
   ]
  },
  {
   "cell_type": "code",
   "execution_count": 38,
   "metadata": {
    "collapsed": true
   },
   "outputs": [],
   "source": [
    "cleaned_tokens = []\n",
    "\n",
    "for tokens in stemmed_stopped_tokens:\n",
    "    cleaned_tokens.append([token for token in tokens if token not in corpus_specific_stop_words])"
   ]
  },
  {
   "cell_type": "markdown",
   "metadata": {},
   "source": [
    "Create dictionary and corpus."
   ]
  },
  {
   "cell_type": "code",
   "execution_count": 40,
   "metadata": {
    "collapsed": true
   },
   "outputs": [],
   "source": [
    "dictionary = corpora.Dictionary(cleaned_tokens) # dictionary.token2id[<str>] gives the integer value corresponding to the token 'str'"
   ]
  },
  {
   "cell_type": "code",
   "execution_count": 41,
   "metadata": {
    "collapsed": false
   },
   "outputs": [
    {
     "data": {
      "text/plain": [
       "2191"
      ]
     },
     "execution_count": 41,
     "metadata": {},
     "output_type": "execute_result"
    }
   ],
   "source": [
    "len(dictionary)"
   ]
  },
  {
   "cell_type": "code",
   "execution_count": 42,
   "metadata": {
    "collapsed": false
   },
   "outputs": [],
   "source": [
    "corpus = [dictionary.doc2bow(tokens) for tokens in cleaned_tokens]"
   ]
  },
  {
   "cell_type": "markdown",
   "metadata": {},
   "source": [
    "Remove words with too low or too high TF-IDF?"
   ]
  },
  {
   "cell_type": "code",
   "execution_count": 43,
   "metadata": {
    "collapsed": true
   },
   "outputs": [],
   "source": [
    "tfidf = gensim.models.tfidfmodel.TfidfModel(corpus, id2word=dictionary)"
   ]
  },
  {
   "cell_type": "code",
   "execution_count": 44,
   "metadata": {
    "collapsed": false
   },
   "outputs": [],
   "source": [
    "low_tfidf_keys = []\n",
    "\n",
    "for doc in corpus:\n",
    "    for key, value in tfidf[doc]:\n",
    "        if value < 0.05:\n",
    "            low_tfidf_keys.append(dictionary[key])\n",
    "            \n",
    "low_tfidf_keys = np.unique(low_tfidf_keys)"
   ]
  },
  {
   "cell_type": "code",
   "execution_count": 45,
   "metadata": {
    "collapsed": false
   },
   "outputs": [
    {
     "data": {
      "text/plain": [
       "array([u'also', u'alway', u'alzheim', u'anoth', u'best', u'call', u'cant',\n",
       "       u'care', u'caus', u'come', u'dementia', u'diagnos', u'differ',\n",
       "       u'diseas', u'doctor', u'doesnt', u'dont', u'even', u'famili',\n",
       "       u'feel', u'find', u'first', u'give', u'good', u'hard', u'help',\n",
       "       u'home', u'hope', u'isnt', u'keep', u'know', u'littl', u'live',\n",
       "       u'long', u'look', u'love', u'luck', u'make', u'mani', u'memori',\n",
       "       u'might', u'much', u'need', u'never', u'patient', u'peopl',\n",
       "       u'person', u'realli', u'seem', u'someon', u'someth', u'start',\n",
       "       u'still', u'sure', u'take', u'talk', u'tell', u'thank', u'that',\n",
       "       u'thing', u'think', u'time', u'understand', u'want', u'well',\n",
       "       u'will', u'wish', u'work', u'year', u'your'], \n",
       "      dtype='<U10')"
      ]
     },
     "execution_count": 45,
     "metadata": {},
     "output_type": "execute_result"
    }
   ],
   "source": [
    "low_tfidf_keys"
   ]
  },
  {
   "cell_type": "code",
   "execution_count": 46,
   "metadata": {
    "collapsed": true
   },
   "outputs": [],
   "source": [
    "high_tfidf_keys = []\n",
    "\n",
    "for doc in corpus:\n",
    "    for key, value in tfidf[doc]:\n",
    "        if value > 0.95:\n",
    "            high_tfidf_keys.append(dictionary[key])\n",
    "            \n",
    "high_tfidf_keys = np.unique(high_tfidf_keys)"
   ]
  },
  {
   "cell_type": "code",
   "execution_count": 47,
   "metadata": {
    "collapsed": false
   },
   "outputs": [
    {
     "data": {
      "text/plain": [
       "array([u'along', u'also', u'easier', u'funni', u'good', u'hard', u'idea',\n",
       "       u'prescript', u'read', u'seen', u'sorri', u'studi', u'water',\n",
       "       u'well'], \n",
       "      dtype='<U9')"
      ]
     },
     "execution_count": 47,
     "metadata": {},
     "output_type": "execute_result"
    }
   ],
   "source": [
    "high_tfidf_keys"
   ]
  },
  {
   "cell_type": "code",
   "execution_count": 48,
   "metadata": {
    "collapsed": false
   },
   "outputs": [],
   "source": [
    "cleaned_tokens_p = []\n",
    "\n",
    "for tokens in cleaned_tokens:\n",
    "    cleaned_tokens_p.append([token for token in tokens \n",
    "                             if token not in low_tfidf_keys and token not in high_tfidf_keys])"
   ]
  },
  {
   "cell_type": "code",
   "execution_count": 50,
   "metadata": {
    "collapsed": true
   },
   "outputs": [],
   "source": [
    "dictionary = corpora.Dictionary(cleaned_tokens_p) # dictionary.token2id[<str>] gives the integer value corresponding to the token 'str'"
   ]
  },
  {
   "cell_type": "code",
   "execution_count": 51,
   "metadata": {
    "collapsed": false,
    "scrolled": true
   },
   "outputs": [
    {
     "data": {
      "text/plain": [
       "2111"
      ]
     },
     "execution_count": 51,
     "metadata": {},
     "output_type": "execute_result"
    }
   ],
   "source": [
    "len(dictionary)"
   ]
  },
  {
   "cell_type": "code",
   "execution_count": 54,
   "metadata": {
    "collapsed": true
   },
   "outputs": [],
   "source": [
    "corpus = [dictionary.doc2bow(tokens) for tokens in cleaned_tokens_p]"
   ]
  },
  {
   "cell_type": "markdown",
   "metadata": {},
   "source": [
    "# Topic discovery using Gensim's LDA package."
   ]
  },
  {
   "cell_type": "code",
   "execution_count": 81,
   "metadata": {
    "collapsed": false
   },
   "outputs": [],
   "source": [
    "ldamodel = gensim.models.ldamodel.LdaModel(corpus, num_topics=3, id2word=dictionary, chunksize=len(corpus), passes=80)"
   ]
  },
  {
   "cell_type": "code",
   "execution_count": 57,
   "metadata": {
    "collapsed": false
   },
   "outputs": [
    {
     "name": "stdout",
     "output_type": "stream",
     "text": [
      "(0, u'0.012*test + 0.011*brain + 0.009*earli + 0.008*symptom + 0.007*drug + 0.006*research + 0.006*onset + 0.006*cognit + 0.006*gener + 0.006*medic')\n",
      "\n",
      "(1, u'0.011*mother + 0.008*rememb + 0.007*right + 0.006*life + 0.006*father + 0.006*situat + 0.006*back + 0.005*sometim + 0.005*better + 0.005*away')\n",
      "\n",
      "(2, u'0.013*support + 0.009*caregiv + 0.007*group + 0.007*medic + 0.007*check + 0.007*nurs + 0.007*servic + 0.006*area + 0.006*social + 0.006*state')\n",
      "\n"
     ]
    }
   ],
   "source": [
    "for item in ldamodel.print_topics(num_topics=ldamodel.num_topics, num_words=10):\n",
    "    print item\n",
    "    print ''"
   ]
  },
  {
   "cell_type": "markdown",
   "metadata": {
    "collapsed": true
   },
   "source": [
    "Run the beautiful LDA visualization from pyLDAvis."
   ]
  },
  {
   "cell_type": "code",
   "execution_count": 58,
   "metadata": {
    "collapsed": false,
    "scrolled": false
   },
   "outputs": [
    {
     "data": {
      "text/html": [
       "\n",
       "<link rel=\"stylesheet\" type=\"text/css\" href=\"https://cdn.rawgit.com/bmabey/pyLDAvis/files/ldavis.v1.0.0.css\">\n",
       "\n",
       "\n",
       "<div id=\"ldavis_el176560394523687058847933\"></div>\n",
       "<script type=\"text/javascript\">\n",
       "\n",
       "var ldavis_el176560394523687058847933_data = {\"plot.opts\": {\"xlab\": \"PC1\", \"ylab\": \"PC2\"}, \"topic.order\": [2, 1, 3], \"token.table\": {\"Topic\": [1, 2, 1, 2, 3, 1, 2, 3, 2, 3, 2, 1, 1, 2, 2, 1, 2, 3, 1, 2, 3, 2, 1, 2, 3, 2, 3, 3, 1, 2, 3, 1, 2, 3, 1, 2, 3, 2, 2, 3, 1, 3, 2, 1, 1, 2, 3, 1, 2, 3, 3, 1, 2, 3, 2, 2, 2, 1, 2, 1, 3, 1, 2, 3, 2, 1, 2, 1, 2, 3, 3, 1, 2, 3, 1, 2, 3, 3, 1, 2, 1, 2, 3, 1, 2, 3, 2, 1, 2, 3, 2, 2, 1, 2, 3, 1, 2, 3, 3, 1, 2, 3, 2, 3, 1, 1, 3, 2, 3, 1, 2, 3, 1, 1, 3, 1, 2, 3, 1, 3, 3, 2, 1, 2, 2, 1, 3, 1, 2, 3, 1, 2, 3, 1, 3, 1, 2, 3, 1, 2, 3, 1, 1, 2, 3, 1, 3, 2, 1, 1, 3, 1, 2, 1, 2, 3, 3, 3, 2, 3, 3, 1, 2, 3, 3, 1, 2, 3, 1, 3, 1, 2, 3, 2, 3, 2, 3, 3, 1, 2, 3, 1, 3, 1, 2, 3, 1, 2, 3, 3, 3, 1, 2, 1, 2, 3, 1, 2, 3, 1, 3, 1, 2, 2, 1, 3, 1, 3, 3, 2, 1, 2, 3, 2, 3, 2, 1, 2, 3, 1, 2, 1, 2, 1, 2, 3, 2, 1, 2, 3, 1, 2, 3, 1, 3, 1, 2, 3, 1, 2, 3, 1, 2, 3, 2, 3, 3, 1, 2, 3, 1, 1, 2, 3, 1, 2, 3, 1, 2, 2, 3, 1, 3, 2, 3, 3, 2, 3, 1, 2, 3, 1, 2, 1, 2, 1, 2, 3, 1, 1, 2, 1, 1, 1, 2, 3, 2, 3, 1, 2, 3, 1, 2, 3, 1, 2, 3, 1, 2, 3, 2, 3, 1, 2, 3, 1, 2, 3, 2, 1, 2, 3, 1, 2, 3, 1, 3, 2, 3, 2, 1, 2, 3, 1, 1, 3, 2, 1, 3, 1, 2, 3, 3, 1, 1, 3], \"Freq\": [0.95851501934125105, 0.03195050064470837, 0.22823302711754126, 0.03260471815964875, 0.73360615859209688, 0.62012055833732427, 0.021383467528873251, 0.35639112548122087, 0.041790585713913898, 0.91939288570610578, 0.98184706672938671, 0.97533605905429632, 0.97333830031072643, 0.96774369696921803, 0.95426213375182711, 0.025174942950050218, 0.16363712917532641, 0.81818564587663212, 0.83645611533805175, 0.095051831288414976, 0.069704676278170979, 0.99623204222442563, 0.41081876905890702, 0.040079879908186053, 0.54107837876051168, 0.20898042114011461, 0.78019357225642794, 0.98980125968907928, 0.88871110870645631, 0.036028828731342825, 0.072057657462685651, 0.87744205910670825, 0.05383080117219069, 0.069980041523847902, 0.78880632909981752, 0.10970154245759052, 0.099253776509248562, 0.97054611396978352, 0.96807399637131986, 0.02806011583684985, 0.97530288232234918, 0.015730691650360472, 0.94059214733909013, 0.98356502741172813, 0.56698009612539457, 0.0046473778370933983, 0.42755876101259266, 0.6553550724852738, 0.24144660565246928, 0.10347711670820112, 0.97505208184221781, 0.12075638932379604, 0.37647580200948177, 0.49723219133327778, 0.99116114549302359, 0.95427353585098507, 0.99231012411047603, 0.045438739997037118, 0.95421353993777946, 0.49406555335585839, 0.5074186764195302, 0.87391444040227928, 0.11652192538697058, 0.0097101604489142138, 0.95426516834995745, 0.97019290983652162, 0.017020928242745995, 0.029849884778362257, 0.059699769556724513, 0.8954965433508677, 0.97013530125279135, 0.013062944045770016, 0.75765075465466103, 0.22207004877809028, 0.8096845987051231, 0.03445466377468609, 0.1550459869860874, 0.97939634381175877, 0.020901210085435398, 0.96145566393002835, 0.21698886451195959, 0.5269729566719018, 0.24798727372795382, 0.82402129813236547, 0.08908338358187734, 0.08908338358187734, 0.97228621153498707, 0.87274431557850274, 0.12467775936835754, 0.96438199352577447, 0.96774734155627917, 0.99022771750583671, 0.28734246526081925, 0.67463013582974951, 0.037479451990541639, 0.11325453095143323, 0.85570090052194003, 0.03775151031714441, 0.96439089897179275, 0.76518467541738078, 0.099298774672484533, 0.14018650541997815, 0.99293921773392035, 0.98668140205627808, 0.99492748725321178, 0.71068213116647416, 0.283117271765506, 0.92220454033428267, 0.061480302688952181, 0.78190407614661628, 0.066639551944313896, 0.15104965107377816, 0.9640935613216165, 0.059680895618542042, 0.92505388208740169, 0.94260648129415059, 0.015976381038883908, 0.03994095259720977, 0.99428465327082849, 0.95390398536922838, 0.97007111500936338, 0.98184642973884095, 0.17209235697179423, 0.82604331346461224, 0.9954354447487046, 0.98793234096803684, 0.97006632800223558, 0.97753874621382109, 0.0067416465256125591, 0.013483293051225118, 0.98664140337643069, 0.0073629955475853041, 0.0073629955475853041, 0.97591075142621764, 0.020764058540983354, 0.46220826740468685, 0.2347724532849203, 0.30080220577130412, 0.062167861466665281, 0.037300716879999168, 0.89521720511998004, 0.96135607848239524, 0.83395227360820867, 0.038490104935763478, 0.12830034978587826, 0.9905774008496423, 0.94523846062604944, 0.93510339833603995, 0.96135228243134518, 0.89449335734765112, 0.096182081435231312, 0.082468843403890518, 0.90715727744279562, 0.1172123058134697, 0.39425957409985263, 0.49016055158360056, 0.97505062549977162, 0.98673800313923987, 0.71125485157128487, 0.29030810268215707, 0.94022368766251518, 0.45842415972394096, 0.36118267129765042, 0.18059133564882521, 0.97938153087657032, 0.8904154311014727, 0.023431985028986125, 0.078106616763287076, 0.98623654515275605, 0.98829889906229507, 0.82782029528448975, 0.071984373502999105, 0.10347753691056122, 0.47844218152862045, 0.51621393270193261, 0.016851524281080114, 0.97738840830264662, 0.96736563090482675, 0.44209156641896286, 0.46314354577224681, 0.094733907089777747, 0.98798332304591152, 0.016745480051625617, 0.46115600883570435, 0.32451719140290308, 0.21634479426860204, 0.26853832968482683, 0.36665810399274434, 0.36665810399274434, 0.95768966219075558, 0.97355753739975226, 0.96812551664220658, 0.028061609178034973, 0.78941061276377256, 0.039079733305137254, 0.17195082654260394, 0.99164827600286476, 0.0030989008625089522, 0.0061978017250179044, 0.98054312252849585, 0.014419751801889645, 0.1933211117154052, 0.81194866920470177, 0.97309966203293141, 0.54930592831253688, 0.44710947653346023, 0.16401497993704617, 0.83498535240678051, 0.96117066697340459, 0.99296079093072154, 0.38925150707036565, 0.025113000456152623, 0.59015551071958661, 0.14119454007753776, 0.84716724046522662, 0.96774739520578779, 0.98874952974522956, 0.0082395794145435804, 0.0082395794145435804, 0.95186807555507125, 0.037085769177470307, 0.97057913973420262, 0.022571607900795411, 0.55033294687767176, 0.05949545371650506, 0.39415738087184604, 0.95013891283923491, 0.22241291784253306, 0.75278218346703496, 0.034217371975774319, 0.53588243329699004, 0.22531420490896173, 0.24358292422590458, 0.12821414549986829, 0.87918271199909692, 0.52072786263906534, 0.35118855852402081, 0.12715447808628338, 0.024297506786228024, 0.097190027144912094, 0.87471024430420885, 0.49111221696248253, 0.48367112276608126, 0.022323282589203752, 0.13748296443042712, 0.85239437946864816, 0.94024567822030669, 0.036032595968454421, 0.93684749517981492, 0.9832621429200793, 0.97715886245312944, 0.98255807900405512, 0.96774847667855157, 0.97504283166823302, 0.98101787132326734, 0.0043991832794765349, 0.013197549838429606, 0.97025296860102239, 0.03404396381056219, 0.7334266377335833, 0.26586715617842394, 0.96520223910008907, 0.029248552700002699, 0.048222191400896751, 0.94836976421763619, 0.97509131858038733, 0.96836660154657994, 0.015370898437247302, 0.77871803765216885, 0.071151901917457058, 0.15020957071463156, 0.10911927905109457, 0.87295423240875658, 0.99302715610456216, 0.95426941978644442, 0.97053498190066056, 0.022570580974433967, 0.98755654949152483, 0.99304861967096059, 0.34363792761091827, 0.65172710408967249, 0.96409286360464219, 0.98872335070928241, 0.78303291257639218, 0.0045001891527378856, 0.21150889017868063, 0.89885132755255281, 0.083614076981632826, 0.19875970354507869, 0.012422481471567418, 0.79503881418031475, 0.91787424925600858, 0.024154585506737068, 0.060386463766842667, 0.67873495466479061, 0.20028244563879069, 0.12795822915811628, 0.28443037784637332, 0.052672292193772834, 0.6531364232027832, 0.97774912648806256, 0.98668415878029625, 0.16236187521985715, 0.023194553602836739, 0.81180937609928583, 0.053582722914819136, 0.91090628955192532, 0.035721815276546089, 0.99742947727767062, 0.67655303863939797, 0.25530303344882943, 0.063825758362207358, 0.90792658337023868, 0.084637223873496828, 0.0076942930794088029, 0.98424541744292238, 0.01348281393757428, 0.83613693389636301, 0.15677567510556806, 0.99421992894937139, 0.22632059866734064, 0.6035215964462417, 0.17602713229682049, 0.9875638816017025, 0.92390449720424783, 0.076461061837592922, 0.95426546396953438, 0.067386317376868773, 0.94340844327616291, 0.65675879584648378, 0.0065025623351137015, 0.33813324142591245, 0.94024896637815236, 0.97715748938938529, 0.027490918333275865, 0.96218214166465521], \"Term\": [\"absolut\", \"absolut\", \"adult\", \"adult\", \"adult\", \"advic\", \"advic\", \"advic\", \"afford\", \"afford\", \"amyloid\", \"anger\", \"angri\", \"anim\", \"appear\", \"area\", \"area\", \"area\", \"around\", \"around\", \"around\", \"articl\", \"assist\", \"assist\", \"assist\", \"associ\", \"associ\", \"attorney\", \"away\", \"away\", \"away\", \"back\", \"back\", \"back\", \"better\", \"better\", \"better\", \"blood\", \"brain\", \"brain\", \"break\", \"break\", \"btiful\", \"calm\", \"caregiv\", \"caregiv\", \"caregiv\", \"chang\", \"chang\", \"chang\", \"chapter\", \"check\", \"check\", \"check\", \"clinic\", \"coconut\", \"cognit\", \"color\", \"color\", \"commun\", \"commun\", \"confus\", \"confus\", \"confus\", \"contribut\", \"convers\", \"convers\", \"cost\", \"cost\", \"cost\", \"cover\", \"current\", \"current\", \"current\", \"deal\", \"deal\", \"deal\", \"delus\", \"develop\", \"develop\", \"diagnosi\", \"diagnosi\", \"diagnosi\", \"didnt\", \"didnt\", \"didnt\", \"diet\", \"difficult\", \"difficult\", \"disabl\", \"disord\", \"drug\", \"earli\", \"earli\", \"earli\", \"effect\", \"effect\", \"effect\", \"elder\", \"everi\", \"everi\", \"everi\", \"exercis\", \"expens\", \"face\", \"facil\", \"facil\", \"factor\", \"factor\", \"father\", \"father\", \"father\", \"felt\", \"financi\", \"financi\", \"friend\", \"friend\", \"friend\", \"frustrat\", \"fund\", \"fuse\", \"gene\", \"gener\", \"gener\", \"genet\", \"gone\", \"govern\", \"grandma\", \"grandma\", \"grandma\", \"grandmoth\", \"grandmoth\", \"grandmoth\", \"grandpa\", \"grandpa\", \"great\", \"great\", \"great\", \"group\", \"group\", \"group\", \"guilti\", \"happen\", \"happen\", \"happen\", \"happi\", \"here\", \"higher\", \"hire\", \"hous\", \"hous\", \"human\", \"human\", \"inform\", \"inform\", \"inform\", \"insight\", \"insur\", \"interest\", \"interest\", \"internet\", \"issu\", \"issu\", \"issu\", \"joke\", \"last\", \"last\", \"last\", \"leav\", \"legal\", \"life\", \"life\", \"life\", \"link\", \"link\", \"local\", \"local\", \"locat\", \"loss\", \"loss\", \"loss\", \"matter\", \"matter\", \"mayb\", \"mayb\", \"mayb\", \"medic\", \"medic\", \"medic\", \"medicaid\", \"medicar\", \"moment\", \"moment\", \"month\", \"month\", \"month\", \"mother\", \"mother\", \"mother\", \"move\", \"move\", \"music\", \"music\", \"mutat\", \"nurs\", \"nurs\", \"offer\", \"offer\", \"offic\", \"onset\", \"option\", \"option\", \"option\", \"organ\", \"organ\", \"paper\", \"parent\", \"parent\", \"parent\", \"pass\", \"pass\", \"pick\", \"pick\", \"place\", \"place\", \"place\", \"plaqu\", \"play\", \"play\", \"play\", \"point\", \"point\", \"point\", \"power\", \"power\", \"problem\", \"problem\", \"problem\", \"program\", \"program\", \"program\", \"progress\", \"progress\", \"progress\", \"provid\", \"provid\", \"psych\", \"puzzl\", \"puzzl\", \"qualifi\", \"readi\", \"realiti\", \"reduc\", \"referr\", \"rememb\", \"rememb\", \"rememb\", \"remind\", \"remind\", \"research\", \"research\", \"resid\", \"resid\", \"resourc\", \"resourc\", \"respit\", \"result\", \"result\", \"right\", \"right\", \"right\", \"risk\", \"risk\", \"safe\", \"scan\", \"sens\", \"sens\", \"servic\", \"shell\", \"show\", \"show\", \"sibl\", \"sister\", \"situat\", \"situat\", \"situat\", \"slow\", \"slow\", \"social\", \"social\", \"social\", \"sometim\", \"sometim\", \"sometim\", \"sound\", \"sound\", \"sound\", \"state\", \"state\", \"state\", \"stroke\", \"sugar\", \"support\", \"support\", \"support\", \"symptom\", \"symptom\", \"symptom\", \"test\", \"though\", \"though\", \"though\", \"thought\", \"thought\", \"thought\", \"took\", \"took\", \"treatment\", \"treatment\", \"trial\", \"type\", \"type\", \"type\", \"upset\", \"visit\", \"visit\", \"vitamin\", \"websit\", \"websit\", \"week\", \"week\", \"week\", \"welcom\", \"woman\", \"worker\", \"worker\"]}, \"mdsDat\": {\"y\": [0.13529140276611903, -0.015586861762248251, -0.11970454100387083], \"cluster\": [1, 1, 1], \"Freq\": [55.525659581736811, 24.100913284500802, 20.373427133762398], \"topics\": [1, 2, 3], \"x\": [0.069638754637985439, -0.17055316725481726, 0.10091441261683173]}, \"R\": 30, \"lambda.step\": 0.01, \"tinfo\": {\"Category\": [\"Default\", \"Default\", \"Default\", \"Default\", \"Default\", \"Default\", \"Default\", \"Default\", \"Default\", \"Default\", \"Default\", \"Default\", \"Default\", \"Default\", \"Default\", \"Default\", \"Default\", \"Default\", \"Default\", \"Default\", \"Default\", \"Default\", \"Default\", \"Default\", \"Default\", \"Default\", \"Default\", \"Default\", \"Default\", \"Default\", \"Topic1\", \"Topic1\", \"Topic1\", \"Topic1\", \"Topic1\", \"Topic1\", \"Topic1\", \"Topic1\", \"Topic1\", \"Topic1\", \"Topic1\", \"Topic1\", \"Topic1\", \"Topic1\", \"Topic1\", \"Topic1\", \"Topic1\", \"Topic1\", \"Topic1\", \"Topic1\", \"Topic1\", \"Topic1\", \"Topic1\", \"Topic1\", \"Topic1\", \"Topic1\", \"Topic1\", \"Topic1\", \"Topic1\", \"Topic1\", \"Topic1\", \"Topic1\", \"Topic1\", \"Topic1\", \"Topic1\", \"Topic1\", \"Topic1\", \"Topic1\", \"Topic1\", \"Topic1\", \"Topic1\", \"Topic1\", \"Topic1\", \"Topic1\", \"Topic1\", \"Topic1\", \"Topic1\", \"Topic1\", \"Topic1\", \"Topic1\", \"Topic1\", \"Topic1\", \"Topic1\", \"Topic1\", \"Topic1\", \"Topic1\", \"Topic1\", \"Topic1\", \"Topic1\", \"Topic1\", \"Topic1\", \"Topic1\", \"Topic1\", \"Topic2\", \"Topic2\", \"Topic2\", \"Topic2\", \"Topic2\", \"Topic2\", \"Topic2\", \"Topic2\", \"Topic2\", \"Topic2\", \"Topic2\", \"Topic2\", \"Topic2\", \"Topic2\", \"Topic2\", \"Topic2\", \"Topic2\", \"Topic2\", \"Topic2\", \"Topic2\", \"Topic2\", \"Topic2\", \"Topic2\", \"Topic2\", \"Topic2\", \"Topic2\", \"Topic2\", \"Topic2\", \"Topic2\", \"Topic2\", \"Topic2\", \"Topic2\", \"Topic2\", \"Topic2\", \"Topic2\", \"Topic2\", \"Topic2\", \"Topic2\", \"Topic2\", \"Topic2\", \"Topic2\", \"Topic2\", \"Topic2\", \"Topic2\", \"Topic2\", \"Topic2\", \"Topic2\", \"Topic2\", \"Topic2\", \"Topic2\", \"Topic2\", \"Topic2\", \"Topic2\", \"Topic2\", \"Topic2\", \"Topic2\", \"Topic3\", \"Topic3\", \"Topic3\", \"Topic3\", \"Topic3\", \"Topic3\", \"Topic3\", \"Topic3\", \"Topic3\", \"Topic3\", \"Topic3\", \"Topic3\", \"Topic3\", \"Topic3\", \"Topic3\", \"Topic3\", \"Topic3\", \"Topic3\", \"Topic3\", \"Topic3\", \"Topic3\", \"Topic3\", \"Topic3\", \"Topic3\", \"Topic3\", \"Topic3\", \"Topic3\", \"Topic3\", \"Topic3\", \"Topic3\", \"Topic3\", \"Topic3\", \"Topic3\", \"Topic3\", \"Topic3\", \"Topic3\", \"Topic3\", \"Topic3\", \"Topic3\", \"Topic3\", \"Topic3\", \"Topic3\", \"Topic3\", \"Topic3\", \"Topic3\", \"Topic3\", \"Topic3\", \"Topic3\", \"Topic3\", \"Topic3\", \"Topic3\", \"Topic3\", \"Topic3\", \"Topic3\", \"Topic3\", \"Topic3\", \"Topic3\", \"Topic3\", \"Topic3\", \"Topic3\", \"Topic3\", \"Topic3\"], \"Term\": [\"test\", \"support\", \"brain\", \"mother\", \"caregiv\", \"drug\", \"symptom\", \"earli\", \"servic\", \"onset\", \"group\", \"cognit\", \"nurs\", \"rememb\", \"social\", \"research\", \"check\", \"gener\", \"local\", \"area\", \"resourc\", \"provid\", \"result\", \"attorney\", \"offer\", \"articl\", \"effect\", \"state\", \"medic\", \"associ\", \"happi\", \"mother\", \"leav\", \"frustrat\", \"sister\", \"safe\", \"gone\", \"realiti\", \"took\", \"grandmoth\", \"face\", \"parent\", \"shell\", \"grandpa\", \"calm\", \"rememb\", \"upset\", \"grandma\", \"matter\", \"move\", \"break\", \"angri\", \"woman\", \"readi\", \"sens\", \"sibl\", \"felt\", \"hire\", \"anger\", \"guilti\", \"moment\", \"convers\", \"resid\", \"pick\", \"remind\", \"friend\", \"pass\", \"visit\", \"sometim\", \"absolut\", \"thought\", \"away\", \"back\", \"last\", \"life\", \"hous\", \"difficult\", \"right\", \"around\", \"father\", \"situat\", \"happen\", \"deal\", \"better\", \"didnt\", \"everi\", \"confus\", \"facil\", \"month\", \"sound\", \"chang\", \"caregiv\", \"though\", \"test\", \"drug\", \"cognit\", \"onset\", \"articl\", \"clinic\", \"diet\", \"genet\", \"blood\", \"trial\", \"exercis\", \"amyloid\", \"gene\", \"mutat\", \"stroke\", \"result\", \"disord\", \"anim\", \"reduc\", \"coconut\", \"vitamin\", \"plaqu\", \"contribut\", \"paper\", \"brain\", \"appear\", \"scan\", \"develop\", \"higher\", \"btiful\", \"color\", \"symptom\", \"risk\", \"slow\", \"effect\", \"treatment\", \"gener\", \"puzzl\", \"factor\", \"human\", \"research\", \"earli\", \"current\", \"music\", \"interest\", \"play\", \"show\", \"progress\", \"type\", \"medic\", \"diagnosi\", \"problem\", \"mayb\", \"check\", \"issu\", \"loss\", \"servic\", \"attorney\", \"medicar\", \"insur\", \"legal\", \"cover\", \"local\", \"locat\", \"respit\", \"elder\", \"offic\", \"medicaid\", \"disabl\", \"fund\", \"here\", \"worker\", \"welcom\", \"qualifi\", \"expens\", \"sugar\", \"psych\", \"chapter\", \"delus\", \"internet\", \"insight\", \"fuse\", \"joke\", \"govern\", \"referr\", \"resourc\", \"websit\", \"financi\", \"group\", \"afford\", \"cost\", \"support\", \"power\", \"provid\", \"program\", \"area\", \"offer\", \"social\", \"associ\", \"organ\", \"adult\", \"state\", \"caregiv\", \"check\", \"assist\", \"nurs\", \"option\", \"medic\", \"inform\", \"place\", \"link\", \"week\", \"advic\", \"facil\", \"situat\", \"great\", \"commun\", \"point\"], \"loglift\": [30.0, 29.0, 28.0, 27.0, 26.0, 25.0, 24.0, 23.0, 22.0, 21.0, 20.0, 19.0, 18.0, 17.0, 16.0, 15.0, 14.0, 13.0, 12.0, 11.0, 10.0, 9.0, 8.0, 7.0, 6.0, 5.0, 4.0, 3.0, 2.0, 1.0, 0.58189999999999997, 0.58089999999999997, 0.57920000000000005, 0.57830000000000004, 0.57689999999999997, 0.57609999999999995, 0.57599999999999996, 0.57469999999999999, 0.57430000000000003, 0.57379999999999998, 0.57320000000000004, 0.57310000000000005, 0.57289999999999996, 0.57050000000000001, 0.56989999999999996, 0.56979999999999997, 0.56979999999999997, 0.56899999999999995, 0.56789999999999996, 0.56740000000000002, 0.56699999999999995, 0.56699999999999995, 0.56669999999999998, 0.5665, 0.5645, 0.56310000000000004, 0.56310000000000004, 0.56220000000000003, 0.56200000000000006, 0.56159999999999999, 0.55989999999999995, 0.56020000000000003, 0.55200000000000005, 0.55759999999999998, 0.55100000000000005, 0.53100000000000003, 0.5423, 0.50919999999999999, 0.50229999999999997, 0.54379999999999995, 0.49340000000000001, 0.47320000000000001, 0.45710000000000001, 0.47470000000000001, 0.39950000000000002, 0.48159999999999997, 0.45419999999999999, 0.33789999999999998, 0.40849999999999997, 0.34370000000000001, 0.34489999999999998, 0.40460000000000002, 0.37740000000000001, 0.35160000000000002, 0.39510000000000001, 0.31950000000000001, 0.4526, 0.25, 0.35170000000000001, 0.1968, 0.16470000000000001, 0.020400000000000001, 0.20150000000000001, 1.4181999999999999, 1.4151, 1.4125000000000001, 1.4120999999999999, 1.411, 1.4108000000000001, 1.4066000000000001, 1.4064000000000001, 1.4056, 1.4054, 1.405, 1.4024000000000001, 1.4023000000000001, 1.3994, 1.3988, 1.3982000000000001, 1.3962000000000001, 1.3958999999999999, 1.3951, 1.3922000000000001, 1.3917999999999999, 1.3916999999999999, 1.3909, 1.3906000000000001, 1.3906000000000001, 1.3898999999999999, 1.3897999999999999, 1.3859999999999999, 1.3833, 1.3829, 1.3825000000000001, 1.3263, 1.2925, 1.3180000000000001, 1.2649999999999999, 1.2463, 1.2275, 1.363, 1.3402000000000001, 1.3165, 1.1085, 1.0303, 1.1435, 1.2101, 1.0729, 1.1319999999999999, 0.98770000000000002, 0.70340000000000003, 0.91510000000000002, 0.41299999999999998, 0.79110000000000003, 0.37619999999999998, 0.29599999999999999, 0.45140000000000002, 0.39879999999999999, 0.65680000000000005, 1.5803, 1.5765, 1.5751999999999999, 1.5713999999999999, 1.5704, 1.5650999999999999, 1.5645, 1.5640000000000001, 1.5632999999999999, 1.5631999999999999, 1.5622, 1.5621, 1.5617000000000001, 1.5588, 1.5547, 1.5528999999999999, 1.5526, 1.5502, 1.5496000000000001, 1.5487, 1.5476000000000001, 1.5446, 1.5431999999999999, 1.5430999999999999, 1.5422, 1.542, 1.5418000000000001, 1.5410999999999999, 1.5406, 1.5382, 1.5206, 1.5144, 1.4793000000000001, 1.5185, 1.4955000000000001, 1.3831, 1.4552, 1.4312, 1.4655, 1.3862000000000001, 1.4046000000000001, 1.3574999999999999, 1.3444, 1.4196, 1.2858000000000001, 1.1652, 0.74650000000000005, 0.89910000000000001, 0.98250000000000004, 0.78790000000000004, 1.0541, 0.58320000000000005, 0.88019999999999998, 0.66639999999999999, 0.92620000000000002, 0.50829999999999997, 0.56559999999999999, 0.33610000000000001, 0.0385, 0.39900000000000002, 0.91110000000000002, 0.1711], \"Freq\": [146.0, 172.0, 142.0, 322.0, 215.0, 90.0, 111.0, 160.0, 69.0, 76.0, 80.0, 75.0, 156.0, 227.0, 80.0, 109.0, 140.0, 87.0, 59.0, 79.0, 62.0, 72.0, 65.0, 54.0, 67.0, 61.0, 79.0, 94.0, 193.0, 71.0, 125.38341453043888, 320.29932108759579, 76.361641713254869, 67.708667552129981, 59.996181444227439, 65.656943721472842, 58.986908477240476, 53.211180864049709, 73.137719469656119, 133.85418572802868, 45.540482967910059, 119.53097232074379, 43.629410903526164, 47.309465907746429, 35.934491928258204, 223.14754455443173, 38.766910500927715, 145.4931767437962, 58.513098533687049, 135.82085276646063, 62.230269516269253, 30.172115456744631, 32.048270607460189, 32.040154699967935, 43.260419727919945, 26.297571338925806, 26.295284800405433, 25.33335855279083, 30.957334822184034, 25.318300757232993, 69.272327198745884, 57.122793587262457, 65.943014639160239, 42.964107598502466, 56.595632729957785, 118.20933879009058, 77.252535398357978, 144.99894870703497, 151.95491082826268, 59.869423855418297, 118.19679499311039, 148.42115981419062, 162.92446693637413, 114.2767108089981, 184.01977086117915, 93.444879795921636, 105.20819912996637, 196.94165294091707, 131.82948021782747, 176.24041839766687, 174.19922170844262, 129.71708438875623, 141.02786790378218, 151.08213947146433, 111.03327089918733, 130.84410347325786, 89.917787709182733, 123.39492963282358, 100.98179822341399, 121.51588261545227, 113.88158764154149, 121.93752094991035, 106.41102700600301, 145.68446149664101, 90.181618424759236, 74.796955034180129, 75.711646233444199, 60.507502975379268, 54.823828067135956, 40.475852321191716, 39.523737607861669, 39.493404757988998, 38.545166477432041, 37.591294076274387, 30.930748408459113, 30.92745352363545, 27.102092892592697, 28.95449632945423, 63.47172893714373, 25.153069693712123, 25.145616949672174, 25.124039935500338, 21.340892551586727, 21.33136711685005, 20.402819646442971, 21.313553599071412, 25.01271727362009, 138.02078616637954, 21.290729481062613, 21.289953169440665, 46.111371588318619, 17.472732866530567, 18.385623509199689, 21.135223022669162, 101.66321078612563, 56.306192617427371, 43.074753120954931, 67.855060725210762, 64.150883489218742, 71.69353954967842, 26.137736564776336, 29.947378375383654, 32.70359340484449, 79.646730988513994, 108.10712617859124, 57.890810942653331, 41.811046112267789, 48.545586384250768, 43.696313100372798, 54.609464781551416, 65.447432954681958, 47.863811480293712, 70.53555153281259, 51.447959265278449, 57.983037194115269, 56.915098932192123, 53.286630087113963, 51.703169255127584, 44.158989986343528, 69.131824538566605, 53.775336611592273, 41.457621134208743, 33.790383613776591, 34.693969930793315, 26.117031619443459, 57.792913447997982, 25.157608726769649, 27.932249091797878, 24.205969601216058, 23.250845532183142, 22.318173456229861, 24.169806921669387, 21.318485843863737, 19.386258113899682, 35.019034211066341, 18.42469917987497, 15.623047685436621, 16.532113593998591, 16.517621176631945, 18.332133607375386, 13.7086935087331, 14.601348098429956, 18.250666909821234, 13.675646898408589, 12.760980400892562, 14.581576637575282, 12.749565649282779, 13.653016821642431, 59.01417523287509, 27.663293651490243, 31.043481762013172, 71.932746040699428, 22.257810896686557, 30.452809082119234, 140.08545503869863, 47.663944906688712, 61.999869019991287, 36.303388916810029, 64.734429912090349, 55.663500460630772, 63.739715251118014, 56.092789320915095, 29.835899842752355, 45.210416940779247, 62.0164812307044, 92.481265368020019, 70.478320097720044, 54.314237682253236, 70.135051368863074, 46.55664146686037, 70.687811062472989, 46.104063182592228, 53.34150403743007, 40.856669109961999, 52.087194618349734, 50.319924199967467, 49.349077555935523, 47.051100018217902, 41.384278830296751, 37.944616965086141, 39.698802328981962], \"Total\": [146.0, 172.0, 142.0, 322.0, 215.0, 90.0, 111.0, 160.0, 69.0, 76.0, 80.0, 75.0, 156.0, 227.0, 80.0, 109.0, 140.0, 87.0, 59.0, 79.0, 62.0, 72.0, 65.0, 54.0, 67.0, 61.0, 79.0, 94.0, 193.0, 71.0, 126.18902863399111, 322.6950600770021, 77.060620368948634, 68.390877578473294, 60.68431574611612, 66.463439186199295, 59.720688910931059, 53.940831725410163, 74.168493656444539, 135.81428829302365, 46.234525218512609, 121.36541802545314, 44.308001771936482, 48.160141622902664, 36.601545395259478, 227.31492108212217, 39.491116196703125, 148.33171632491337, 59.717607194122927, 138.69864249243935, 63.569995663673495, 30.82176052295781, 32.748047625359185, 32.748001609139493, 44.305461216648119, 26.968356453535737, 26.968336936467246, 26.005035258014662, 31.783916643108803, 26.004932573438563, 71.271750216145335, 58.751202386754763, 68.379451814715452, 44.303445478722878, 58.747565680923941, 125.18479592670742, 80.893562855439086, 156.94262820321006, 165.60002649949598, 62.59682820748661, 129.96645561580763, 166.53330711193439, 185.76725187523419, 128.0301261838851, 222.27046262107689, 103.96946968478704, 120.31015055125309, 252.97988549739267, 157.80863763145842, 225.09154942299841, 222.21288173889457, 155.88422037335206, 174.14188219152533, 191.42848431797012, 134.70525610391405, 171.2005012757792, 102.98491000854878, 173.07315690928465, 127.94355480779909, 179.74615740875257, 173.95150321745874, 215.17510197221844, 156.67655593296047, 146.37626351136564, 90.888185019391273, 75.581210125444699, 76.538772420977182, 61.230714747737714, 55.490472210391061, 41.140149397830506, 40.183419438211693, 40.1835620571185, 39.226733305590372, 38.270217674273518, 31.573145197921249, 31.573165681567552, 27.746387192852886, 29.659960018746244, 65.058005820711486, 25.833189022039932, 25.833286311546185, 25.833158720955577, 22.006268864275896, 22.006455009536467, 21.049553628148303, 22.006461826864747, 25.833187589912185, 142.55108650503195, 22.00653180844062, 22.006363784244058, 47.844119833847827, 18.179807741315532, 19.136881007269213, 22.007652502362657, 111.97639226991592, 64.149983952169293, 47.83883461248594, 79.467019327107153, 76.542486530002549, 87.162499624887388, 27.752649319951118, 32.530744198164037, 36.377374486841333, 109.0770308632558, 160.08771957269192, 76.552421605435526, 51.727407892839722, 68.892324448473758, 58.449842419692175, 84.39115030642094, 134.38883766363713, 79.533193646493757, 193.64088568298763, 96.779159830308075, 165.15344418896518, 175.64554824841889, 140.7793003351253, 143.97146965322383, 95.002943259490493, 69.869416627864865, 54.556406623449554, 42.113586947830285, 34.456968204154812, 35.41438732068633, 26.800385437396937, 59.341812842577113, 25.843382482605069, 28.715259244400357, 24.886174294664276, 23.929153052936858, 22.971951007254344, 24.886404102440935, 22.014794279186823, 20.100747897431024, 36.375649146269836, 19.143865767102266, 16.272364511546641, 17.229472415889681, 17.22942427799266, 19.143932715617826, 14.358207382675451, 15.315556459625725, 19.144380466258724, 14.358228828194603, 13.401079363005794, 15.315788104125911, 13.401145493599733, 14.358343598144234, 62.212021329752574, 29.679615652754542, 33.511561434721955, 80.427408664861744, 23.928834279703732, 33.500966835385753, 172.45427821084655, 54.596159984603183, 72.736284392969083, 41.156486087157148, 79.444072781742307, 67.067044755437138, 80.499214451540979, 71.77705891377731, 35.412134189142314, 61.340815467473618, 94.926569392609863, 215.17510197221844, 140.7793003351253, 99.800698234702708, 156.56120854947127, 79.640025631027498, 193.64088568298763, 93.846801525304627, 134.46405565910766, 79.4244351085228, 153.78553075916255, 140.29530037395566, 173.07315690928465, 222.21288173889457, 136.30219198316567, 74.888847742336281, 164.21512356466766], \"logprob\": [30.0, 29.0, 28.0, 27.0, 26.0, 25.0, 24.0, 23.0, 22.0, 21.0, 20.0, 19.0, 18.0, 17.0, 16.0, 15.0, 14.0, 13.0, 12.0, 11.0, 10.0, 9.0, 8.0, 7.0, 6.0, 5.0, 4.0, 3.0, 2.0, 1.0, -5.4248000000000003, -4.4869000000000003, -5.9206000000000003, -6.0408999999999997, -6.1618000000000004, -6.0716999999999999, -6.1787999999999998, -6.2819000000000003, -5.9638, -5.3593999999999999, -6.4375, -5.4725999999999999, -6.4804000000000004, -6.3994, -6.6744000000000003, -4.8483000000000001, -6.5986000000000002, -5.2759999999999998, -6.1868999999999996, -5.3448000000000002, -6.1253000000000002, -6.8491999999999997, -6.7888999999999999, -6.7891000000000004, -6.4889000000000001, -6.9866000000000001, -6.9866999999999999, -7.024, -6.8235000000000001, -7.0246000000000004, -6.0180999999999996, -6.2108999999999996, -6.0673000000000004, -6.4958, -6.2202000000000002, -5.4836999999999998, -5.9089999999999998, -5.2793999999999999, -5.2324999999999999, -6.1639999999999997, -5.4837999999999996, -5.2561, -5.1627999999999998, -5.5175000000000001, -5.0411000000000001, -5.7187999999999999, -5.6002000000000001, -4.9732000000000003, -5.3746, -5.0842999999999998, -5.0959000000000003, -5.3907999999999996, -5.3071999999999999, -5.2382999999999997, -5.5462999999999996, -5.3821000000000003, -5.7572000000000001, -5.4406999999999996, -5.6412000000000004, -5.4561000000000002, -5.5209999999999999, -5.4526000000000003, -5.5888, -4.4401000000000002, -4.9196999999999997, -5.1067999999999998, -5.0945999999999998, -5.3188000000000004, -5.4173999999999998, -5.7207999999999997, -5.7446000000000002, -5.7454000000000001, -5.7697000000000003, -5.7948000000000004, -5.9897999999999998, -5.9898999999999996, -6.1219000000000001, -6.0557999999999996, -5.2709000000000001, -6.1966000000000001, -6.1967999999999996, -6.1977000000000002, -6.3609, -6.3613999999999997, -6.4058999999999999, -6.3621999999999996, -6.2020999999999997, -4.4941000000000004, -6.3632999999999997, -6.3632999999999997, -5.5904999999999996, -6.5609000000000002, -6.5099999999999998, -6.3705999999999996, -4.7999000000000001, -5.3906999999999998, -5.6585999999999999, -5.2042000000000002, -5.2603, -5.1490999999999998, -6.1581999999999999, -6.0221, -5.9340000000000002, -5.0438999999999998, -4.7384000000000004, -5.3630000000000004, -5.6883999999999997, -5.5389999999999997, -5.6443000000000003, -5.4212999999999996, -5.2403000000000004, -5.5532000000000004, -5.1654, -5.4809999999999999, -5.3613999999999997, -5.3799999999999999, -5.4458000000000002, -5.476, -5.6337000000000002, -5.0175000000000001, -5.2686999999999999, -5.5288000000000004, -5.7332999999999998, -5.7069000000000001, -5.9908999999999999, -5.1966000000000001, -6.0284000000000004, -5.9237000000000002, -6.0669000000000004, -6.1071999999999997, -6.1481000000000003, -6.0683999999999996, -6.1939000000000002, -6.2888999999999999, -5.6976000000000004, -6.3398000000000003, -6.5048000000000004, -6.4481999999999999, -6.4490999999999996, -6.3449, -6.6355000000000004, -6.5724, -6.3493000000000004, -6.6379000000000001, -6.7070999999999996, -6.5738000000000003, -6.7080000000000002, -6.6395999999999997, -5.1757, -5.9333999999999998, -5.8181000000000003, -4.9778000000000002, -6.1508000000000003, -5.8372999999999999, -4.3113000000000001, -5.3893000000000004, -5.1264000000000003, -5.6616, -5.0831999999999997, -5.2342000000000004, -5.0987, -5.2264999999999997, -5.8578000000000001, -5.4421999999999997, -5.1261000000000001, -4.7264999999999997, -4.9981999999999998, -5.2587000000000002, -5.0030999999999999, -5.4127999999999998, -4.9951999999999996, -5.4226000000000001, -5.2767999999999997, -5.5434000000000001, -5.3006000000000002, -5.3350999999999997, -5.3545999999999996, -5.4023000000000003, -5.5305999999999997, -5.6173999999999999, -5.5721999999999996]}};\n",
       "\n",
       "function LDAvis_load_lib(url, callback){\n",
       "  var s = document.createElement('script');\n",
       "  s.src = url;\n",
       "  s.async = true;\n",
       "  s.onreadystatechange = s.onload = callback;\n",
       "  s.onerror = function(){console.warn(\"failed to load library \" + url);};\n",
       "  document.getElementsByTagName(\"head\")[0].appendChild(s);\n",
       "}\n",
       "\n",
       "if(typeof(LDAvis) !== \"undefined\"){\n",
       "   // already loaded: just create the visualization\n",
       "   !function(LDAvis){\n",
       "       new LDAvis(\"#\" + \"ldavis_el176560394523687058847933\", ldavis_el176560394523687058847933_data);\n",
       "   }(LDAvis);\n",
       "}else if(typeof define === \"function\" && define.amd){\n",
       "   // require.js is available: use it to load d3/LDAvis\n",
       "   require.config({paths: {d3: \"https://cdnjs.cloudflare.com/ajax/libs/d3/3.5.5/d3.min\"}});\n",
       "   require([\"d3\"], function(d3){\n",
       "      window.d3 = d3;\n",
       "      LDAvis_load_lib(\"https://cdn.rawgit.com/bmabey/pyLDAvis/files/ldavis.v1.0.0.js\", function(){\n",
       "        new LDAvis(\"#\" + \"ldavis_el176560394523687058847933\", ldavis_el176560394523687058847933_data);\n",
       "      });\n",
       "    });\n",
       "}else{\n",
       "    // require.js not available: dynamically load d3 & LDAvis\n",
       "    LDAvis_load_lib(\"https://cdnjs.cloudflare.com/ajax/libs/d3/3.5.5/d3.min.js\", function(){\n",
       "         LDAvis_load_lib(\"https://cdn.rawgit.com/bmabey/pyLDAvis/files/ldavis.v1.0.0.js\", function(){\n",
       "                 new LDAvis(\"#\" + \"ldavis_el176560394523687058847933\", ldavis_el176560394523687058847933_data);\n",
       "            })\n",
       "         });\n",
       "}\n",
       "</script>"
      ],
      "text/plain": [
       "PreparedData(topic_coordinates=            Freq  cluster  topics         x         y\n",
       "topic                                                \n",
       "1      55.525660        1       1  0.069639  0.135291\n",
       "0      24.100913        1       2 -0.170553 -0.015587\n",
       "2      20.373427        1       3  0.100914 -0.119705, topic_info=     Category        Freq      Term       Total  loglift  logprob\n",
       "term                                                             \n",
       "501   Default  146.000000      test  146.000000  30.0000  30.0000\n",
       "463   Default  172.000000   support  172.000000  29.0000  29.0000\n",
       "679   Default  142.000000     brain  142.000000  28.0000  28.0000\n",
       "382   Default  322.000000    mother  322.000000  27.0000  27.0000\n",
       "875   Default  215.000000   caregiv  215.000000  26.0000  26.0000\n",
       "1897  Default   90.000000      drug   90.000000  25.0000  25.0000\n",
       "206   Default  111.000000   symptom  111.000000  24.0000  24.0000\n",
       "1463  Default  160.000000     earli  160.000000  23.0000  23.0000\n",
       "348   Default   69.000000    servic   69.000000  22.0000  22.0000\n",
       "1347  Default   76.000000     onset   76.000000  21.0000  21.0000\n",
       "685   Default   80.000000     group   80.000000  20.0000  20.0000\n",
       "1601  Default   75.000000    cognit   75.000000  19.0000  19.0000\n",
       "1016  Default  156.000000      nurs  156.000000  18.0000  18.0000\n",
       "2093  Default  227.000000    rememb  227.000000  17.0000  17.0000\n",
       "367   Default   80.000000    social   80.000000  16.0000  16.0000\n",
       "1271  Default  109.000000  research  109.000000  15.0000  15.0000\n",
       "496   Default  140.000000     check  140.000000  14.0000  14.0000\n",
       "579   Default   87.000000     gener   87.000000  13.0000  13.0000\n",
       "1844  Default   59.000000     local   59.000000  12.0000  12.0000\n",
       "1018  Default   79.000000      area   79.000000  11.0000  11.0000\n",
       "1206  Default   62.000000   resourc   62.000000  10.0000  10.0000\n",
       "209   Default   72.000000    provid   72.000000   9.0000   9.0000\n",
       "290   Default   65.000000    result   65.000000   8.0000   8.0000\n",
       "1334  Default   54.000000  attorney   54.000000   7.0000   7.0000\n",
       "473   Default   67.000000     offer   67.000000   6.0000   6.0000\n",
       "1085  Default   61.000000    articl   61.000000   5.0000   5.0000\n",
       "1961  Default   79.000000    effect   79.000000   4.0000   4.0000\n",
       "729   Default   94.000000     state   94.000000   3.0000   3.0000\n",
       "920   Default  193.000000     medic  193.000000   2.0000   2.0000\n",
       "1211  Default   71.000000    associ   71.000000   1.0000   1.0000\n",
       "...       ...         ...       ...         ...      ...      ...\n",
       "685    Topic3   71.932746     group   80.427409   1.4793  -4.9778\n",
       "618    Topic3   22.257811    afford   23.928834   1.5185  -6.1508\n",
       "570    Topic3   30.452809      cost   33.500967   1.4955  -5.8373\n",
       "463    Topic3  140.085455   support  172.454278   1.3831  -4.3113\n",
       "993    Topic3   47.663945     power   54.596160   1.4552  -5.3893\n",
       "209    Topic3   61.999869    provid   72.736284   1.4312  -5.1264\n",
       "1086   Topic3   36.303389   program   41.156486   1.4655  -5.6616\n",
       "1018   Topic3   64.734430      area   79.444073   1.3862  -5.0832\n",
       "473    Topic3   55.663500     offer   67.067045   1.4046  -5.2342\n",
       "367    Topic3   63.739715    social   80.499214   1.3575  -5.0987\n",
       "1211   Topic3   56.092789    associ   71.777059   1.3444  -5.2265\n",
       "1859   Topic3   29.835900     organ   35.412134   1.4196  -5.8578\n",
       "82     Topic3   45.210417     adult   61.340815   1.2858  -5.4422\n",
       "729    Topic3   62.016481     state   94.926569   1.1652  -5.1261\n",
       "875    Topic3   92.481265   caregiv  215.175102   0.7465  -4.7265\n",
       "496    Topic3   70.478320     check  140.779300   0.8991  -4.9982\n",
       "931    Topic3   54.314238    assist   99.800698   0.9825  -5.2587\n",
       "1016   Topic3   70.135051      nurs  156.561209   0.7879  -5.0031\n",
       "1318   Topic3   46.556641    option   79.640026   1.0541  -5.4128\n",
       "920    Topic3   70.687811     medic  193.640886   0.5832  -4.9952\n",
       "671    Topic3   46.104063    inform   93.846802   0.8802  -5.4226\n",
       "745    Topic3   53.341504     place  134.464056   0.6664  -5.2768\n",
       "1565   Topic3   40.856669      link   79.424435   0.9262  -5.5434\n",
       "927    Topic3   52.087195      week  153.785531   0.5083  -5.3006\n",
       "801    Topic3   50.319924     advic  140.295300   0.5656  -5.3351\n",
       "1770   Topic3   49.349078     facil  173.073157   0.3361  -5.3546\n",
       "173    Topic3   47.051100    situat  222.212882   0.0385  -5.4023\n",
       "1652   Topic3   41.384279     great  136.302192   0.3990  -5.5306\n",
       "1671   Topic3   37.944617    commun   74.888848   0.9111  -5.6174\n",
       "1428   Topic3   39.698802     point  164.215124   0.1711  -5.5722\n",
       "\n",
       "[211 rows x 6 columns], token_table=      Topic      Freq       Term\n",
       "term                            \n",
       "261       1  0.958515    absolut\n",
       "261       2  0.031951    absolut\n",
       "82        1  0.228233      adult\n",
       "82        2  0.032605      adult\n",
       "82        3  0.733606      adult\n",
       "801       1  0.620121      advic\n",
       "801       2  0.021383      advic\n",
       "801       3  0.356391      advic\n",
       "618       2  0.041791     afford\n",
       "618       3  0.919393     afford\n",
       "739       2  0.981847    amyloid\n",
       "796       1  0.975336      anger\n",
       "613       1  0.973338      angri\n",
       "142       2  0.967744       anim\n",
       "573       2  0.954262     appear\n",
       "1018      1  0.025175       area\n",
       "1018      2  0.163637       area\n",
       "1018      3  0.818186       area\n",
       "964       1  0.836456     around\n",
       "964       2  0.095052     around\n",
       "964       3  0.069705     around\n",
       "1085      2  0.996232     articl\n",
       "931       1  0.410819     assist\n",
       "931       2  0.040080     assist\n",
       "931       3  0.541078     assist\n",
       "1211      2  0.208980     associ\n",
       "1211      3  0.780194     associ\n",
       "1334      3  0.989801   attorney\n",
       "297       1  0.888711       away\n",
       "297       2  0.036029       away\n",
       "...     ...       ...        ...\n",
       "206       2  0.910906    symptom\n",
       "206       3  0.035722    symptom\n",
       "501       2  0.997429       test\n",
       "233       1  0.676553     though\n",
       "233       2  0.255303     though\n",
       "233       3  0.063826     though\n",
       "1968      1  0.907927    thought\n",
       "1968      2  0.084637    thought\n",
       "1968      3  0.007694    thought\n",
       "201       1  0.984245       took\n",
       "201       3  0.013483       took\n",
       "959       2  0.836137  treatment\n",
       "959       3  0.156776  treatment\n",
       "591       2  0.994220      trial\n",
       "70        1  0.226321       type\n",
       "70        2  0.603522       type\n",
       "70        3  0.176027       type\n",
       "1819      1  0.987564      upset\n",
       "611       1  0.923904      visit\n",
       "611       3  0.076461      visit\n",
       "307       2  0.954265    vitamin\n",
       "1674      1  0.067386     websit\n",
       "1674      3  0.943408     websit\n",
       "927       1  0.656759       week\n",
       "927       2  0.006503       week\n",
       "927       3  0.338133       week\n",
       "1948      3  0.940249     welcom\n",
       "96        1  0.977157      woman\n",
       "338       1  0.027491     worker\n",
       "338       3  0.962182     worker\n",
       "\n",
       "[336 rows x 3 columns], R=30, lambda_step=0.01, plot_opts={'xlab': 'PC1', 'ylab': 'PC2'}, topic_order=[2, 1, 3])"
      ]
     },
     "execution_count": 58,
     "metadata": {},
     "output_type": "execute_result"
    }
   ],
   "source": [
    "pyLDAvis.gensim.prepare(ldamodel, corpus, dictionary)"
   ]
  },
  {
   "cell_type": "markdown",
   "metadata": {
    "collapsed": true
   },
   "source": [
    "My choice of labels for the 3 topics:  0. Research Discussion, 1. Emotional Support, 2. Problem Solving."
   ]
  },
  {
   "cell_type": "code",
   "execution_count": 58,
   "metadata": {
    "collapsed": false
   },
   "outputs": [
    {
     "name": "stdout",
     "output_type": "stream",
     "text": [
      "Sounds tough.  I'm a speech pathologist and  I see people with FTD in my practice. In my experience, your mothers behavior is not uncommon. I wish I had some sage advice but I don't.   Do the best you can. I had a similar experience with my grandmother who had huntingtons dz. I was the only one to care for her.  Much of what I have left memory wise is how i dealt with her, both the good and the regrets...\n",
      "[(0, 0.021444203786249678), (1, 0.95693467624684148), (2, 0.021621119966909019)]\n"
     ]
    }
   ],
   "source": [
    "print df.Body.values[3]\n",
    "print ldamodel.get_document_topics(corpus[3])"
   ]
  },
  {
   "cell_type": "code",
   "execution_count": 62,
   "metadata": {
    "collapsed": false
   },
   "outputs": [
    {
     "name": "stdout",
     "output_type": "stream",
     "text": [
      "I know someone mentioned this below but I just want to make sure you follow through with the Social Security/Disability route. I had no idea that was an option, but Alzheimer's is a disease they rush through the process because it is an incurable thing and they call it something like a \"compassionate allowance.\" Our family has no financial problems to begin with and we get something like $1000 or $1100 a month just from that to use toward caregivers. It obviously doesn't cover anything near the whole amount that you need but it definitely helps.\n",
      "[(0, 0.016408280525601896), (1, 0.016831196988790455), (2, 0.96676052248560762)]\n"
     ]
    }
   ],
   "source": [
    "print df.Body.values[2400]\n",
    "print ldamodel.get_document_topics(corpus[2400])"
   ]
  },
  {
   "cell_type": "code",
   "execution_count": 63,
   "metadata": {
    "collapsed": false
   },
   "outputs": [
    {
     "name": "stdout",
     "output_type": "stream",
     "text": [
      "What sort of scan? MRIs are [not very accurate]( http://www.ncbi.nlm.nih.gov/pubmed/20683185) for the subtle changes.\n",
      "\n",
      "&gt;As magnetic resonance imaging (MRI) has a relatively low sensitivity for bvFTD, a substantial proportion of patients may present with a normal MRI. \n",
      "\n",
      "\n",
      "[(0, 0.94520214063427122), (1, 0.027394629846297883), (2, 0.027403229519430902)]\n"
     ]
    }
   ],
   "source": [
    "print df.Body.values[1500]\n",
    "print ldamodel.get_document_topics(corpus[1500])"
   ]
  },
  {
   "cell_type": "markdown",
   "metadata": {},
   "source": [
    "Project all documents into the 3-topic space."
   ]
  },
  {
   "cell_type": "code",
   "execution_count": 73,
   "metadata": {
    "collapsed": true
   },
   "outputs": [],
   "source": [
    "topic_vectors = [ldamodel.get_document_topics(doc) for doc in corpus]"
   ]
  },
  {
   "cell_type": "code",
   "execution_count": 74,
   "metadata": {
    "collapsed": false
   },
   "outputs": [],
   "source": [
    "doc_topic_proj = np.zeros((len(topic_vectors), 3))\n",
    "\n",
    "for i, vec in enumerate(topic_vectors):\n",
    "    for (topic, frac) in vec:\n",
    "        doc_topic_proj[i][topic] = frac"
   ]
  },
  {
   "cell_type": "code",
   "execution_count": 75,
   "metadata": {
    "collapsed": false
   },
   "outputs": [
    {
     "data": {
      "text/plain": [
       "array([[ 0.07438747,  0.07678212,  0.84883041],\n",
       "       [ 0.08630051,  0.82679849,  0.08690101],\n",
       "       [ 0.7529743 ,  0.13414478,  0.11288091],\n",
       "       [ 0.02144473,  0.95693738,  0.02161789],\n",
       "       [ 0.0556873 ,  0.88770617,  0.05660652],\n",
       "       [ 0.06699301,  0.07199224,  0.86101475],\n",
       "       [ 0.64485484,  0.05275943,  0.30238573],\n",
       "       [ 0.46615675,  0.47920272,  0.05464054],\n",
       "       [ 0.35155873,  0.63697334,  0.01146793],\n",
       "       [ 0.09328295,  0.08729318,  0.81942387]])"
      ]
     },
     "execution_count": 75,
     "metadata": {},
     "output_type": "execute_result"
    }
   ],
   "source": [
    "doc_topic_proj[:10]"
   ]
  },
  {
   "cell_type": "markdown",
   "metadata": {},
   "source": [
    "Most frequecies sum to 1.  Not all, though.  Not sure why.  This is something that I chose not to explore given the time constraints of the project."
   ]
  },
  {
   "cell_type": "code",
   "execution_count": 76,
   "metadata": {
    "collapsed": false
   },
   "outputs": [
    {
     "data": {
      "text/plain": [
       "0"
      ]
     },
     "execution_count": 76,
     "metadata": {},
     "output_type": "execute_result"
    }
   ],
   "source": [
    "np.sum(np.sum(doc_topic_proj, axis=1) < 0.98)"
   ]
  },
  {
   "cell_type": "markdown",
   "metadata": {},
   "source": [
    "To plot docs on a 2D triangle (simplex), assign topic 0 to the bottom lhs vertex, topic 1 to the top vertex, and topic 2 to the bottom rhs vertex."
   ]
  },
  {
   "cell_type": "code",
   "execution_count": 78,
   "metadata": {
    "collapsed": false
   },
   "outputs": [],
   "source": [
    "symplex_bottom_unit_vec = np.array([1, 0])\n",
    "symplex_lhs_unit_vec = np.array([np.cos(np.pi / 3), np.sin(np.pi / 3)])"
   ]
  },
  {
   "cell_type": "code",
   "execution_count": 79,
   "metadata": {
    "collapsed": false
   },
   "outputs": [],
   "source": [
    "doc_symplex_coord = symplex_bottom_unit_vec.reshape(-1, 1).dot(doc_topic_proj.T[2].reshape(1, -1)).T + \\\n",
    "                    symplex_lhs_unit_vec.reshape(-1, 1).dot(doc_topic_proj.T[1].reshape(1, -1)).T"
   ]
  },
  {
   "cell_type": "code",
   "execution_count": 80,
   "metadata": {
    "collapsed": false
   },
   "outputs": [
    {
     "data": {
      "text/plain": [
       "array([[ 0.88722147,  0.06649527],\n",
       "       [ 0.50030025,  0.71602849],\n",
       "       [ 0.1799533 ,  0.11617279],\n",
       "       ..., \n",
       "       [ 0.58007863,  0.52128552],\n",
       "       [ 0.50167849,  0.54080275],\n",
       "       [ 0.8690136 ,  0.07872938]])"
      ]
     },
     "execution_count": 80,
     "metadata": {},
     "output_type": "execute_result"
    }
   ],
   "source": [
    "doc_symplex_coord"
   ]
  },
  {
   "cell_type": "code",
   "execution_count": 82,
   "metadata": {
    "collapsed": false
   },
   "outputs": [
    {
     "data": {
      "image/png": "[encoded data removed]",
      "text/plain": [
       "<matplotlib.figure.Figure at 0x16750f690>"
      ]
     },
     "metadata": {},
     "output_type": "display_data"
    }
   ],
   "source": [
    "plt.figure()\n",
    "plt.plot(doc_symplex_coord.T[0], doc_symplex_coord.T[1], ls='none', marker='o', mfc='none', mec='b', mew=0.2, alpha=1.)\n",
    "plt.xlim(-0.01, 1.01)\n",
    "plt.ylim(-0.01, 1.01);"
   ]
  },
  {
   "cell_type": "code",
   "execution_count": 89,
   "metadata": {
    "collapsed": false,
    "scrolled": true
   },
   "outputs": [],
   "source": [
    "orig_text_of_post = np.array([[str(i), str(post.encode('utf-8'))] for i, post in enumerate(df.Body.values)])"
   ]
  },
  {
   "cell_type": "code",
   "execution_count": 89,
   "metadata": {
    "collapsed": false
   },
   "outputs": [],
   "source": [
    "np.savetxt('coords_and_text.csv', np.hstack((doc_symplex_coord, doc_topic_proj, orig_text_of_post)), fmt='%.4f', delimiter=\",\")"
   ]
  }
 ],
 "metadata": {
  "kernelspec": {
   "display_name": "Python 2",
   "language": "python",
   "name": "python2"
  },
  "language_info": {
   "codemirror_mode": {
    "name": "ipython",
    "version": 2
   },
   "file_extension": ".py",
   "mimetype": "text/x-python",
   "name": "python",
   "nbconvert_exporter": "python",
   "pygments_lexer": "ipython2",
   "version": "2.7.11"
  }
 },
 "nbformat": 4,
 "nbformat_minor": 0
}
